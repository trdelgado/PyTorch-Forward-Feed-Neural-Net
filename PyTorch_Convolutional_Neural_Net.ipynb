{
  "nbformat": 4,
  "nbformat_minor": 0,
  "metadata": {
    "colab": {
      "name": "PyTorch Convolutional Neural Net.ipynb",
      "version": "0.3.2",
      "views": {},
      "default_view": {},
      "provenance": [
        {
          "file_id": "1GlEoIrfErXeNj2EJqoKk1wntMOTYccH4",
          "timestamp": 1522455207467
        },
        {
          "file_id": "1lelRw46AhuRRwRArhFhfpWJHK4jq4YJS",
          "timestamp": 1522359017569
        }
      ]
    },
    "kernelspec": {
      "name": "python3",
      "display_name": "Python 3"
    }
  },
  "cells": [
    {
      "metadata": {
        "id": "A7msEU5trFzR",
        "colab_type": "text"
      },
      "cell_type": "markdown",
      "source": [
        "# Install PyTorch into Google Colabs"
      ]
    },
    {
      "metadata": {
        "id": "YY72ywmlNJXb",
        "colab_type": "code",
        "colab": {
          "autoexec": {
            "startup": false,
            "wait_interval": 0
          },
          "output_extras": [
            {
              "item_id": 11
            }
          ],
          "base_uri": "https://localhost:8080/",
          "height": 136
        },
        "outputId": "340d7610-9b74-4afc-820d-4b29708f2c6a",
        "executionInfo": {
          "status": "ok",
          "timestamp": 1522455250203,
          "user_tz": 420,
          "elapsed": 7588,
          "user": {
            "displayName": "Tairi Delgado",
            "photoUrl": "//lh6.googleusercontent.com/-l4lv-T3P6-c/AAAAAAAAAAI/AAAAAAAABIA/4wtQ8ehIzZw/s50-c-k-no/photo.jpg",
            "userId": "115188476170888991569"
          }
        }
      },
      "cell_type": "code",
      "source": [
        "!pip3 install http://download.pytorch.org/whl/cpu/torch-0.3.1-cp36-cp36m-linux_x86_64.whl "
      ],
      "execution_count": 1,
      "outputs": [
        {
          "output_type": "stream",
          "text": [
            "Collecting torch==0.3.1 from http://download.pytorch.org/whl/cpu/torch-0.3.1-cp36-cp36m-linux_x86_64.whl\n",
            "  Downloading http://download.pytorch.org/whl/cpu/torch-0.3.1-cp36-cp36m-linux_x86_64.whl (47.0MB)\n",
            "\u001b[K    100% |████████████████████████████████| 47.0MB 52.2MB/s \n",
            "\u001b[?25hRequirement already satisfied: pyyaml in /usr/local/lib/python3.6/dist-packages (from torch==0.3.1)\n",
            "Requirement already satisfied: numpy in /usr/local/lib/python3.6/dist-packages (from torch==0.3.1)\n",
            "Installing collected packages: torch\n",
            "Successfully installed torch-0.3.1\n"
          ],
          "name": "stdout"
        }
      ]
    },
    {
      "metadata": {
        "id": "nxDA8ynYOaK8",
        "colab_type": "code",
        "colab": {
          "autoexec": {
            "startup": false,
            "wait_interval": 0
          },
          "output_extras": [
            {
              "item_id": 11
            }
          ],
          "base_uri": "https://localhost:8080/",
          "height": 272
        },
        "outputId": "aec00627-2d97-472d-d049-c6d5cc0bb8e9",
        "executionInfo": {
          "status": "ok",
          "timestamp": 1522455260248,
          "user_tz": 420,
          "elapsed": 8665,
          "user": {
            "displayName": "Tairi Delgado",
            "photoUrl": "//lh6.googleusercontent.com/-l4lv-T3P6-c/AAAAAAAAAAI/AAAAAAAABIA/4wtQ8ehIzZw/s50-c-k-no/photo.jpg",
            "userId": "115188476170888991569"
          }
        }
      },
      "cell_type": "code",
      "source": [
        "!pip3 install torchvision"
      ],
      "execution_count": 2,
      "outputs": [
        {
          "output_type": "stream",
          "text": [
            "Collecting torchvision\n",
            "  Downloading torchvision-0.2.0-py2.py3-none-any.whl (48kB)\n",
            "\u001b[K    100% |████████████████████████████████| 51kB 2.8MB/s \n",
            "\u001b[?25hRequirement already satisfied: six in /usr/local/lib/python3.6/dist-packages (from torchvision)\n",
            "Collecting pillow>=4.1.1 (from torchvision)\n",
            "  Downloading Pillow-5.0.0-cp36-cp36m-manylinux1_x86_64.whl (5.9MB)\n",
            "\u001b[K    100% |████████████████████████████████| 5.9MB 231kB/s \n",
            "\u001b[?25hRequirement already satisfied: numpy in /usr/local/lib/python3.6/dist-packages (from torchvision)\n",
            "Requirement already satisfied: torch in /usr/local/lib/python3.6/dist-packages (from torchvision)\n",
            "Requirement already satisfied: pyyaml in /usr/local/lib/python3.6/dist-packages (from torch->torchvision)\n",
            "Installing collected packages: pillow, torchvision\n",
            "  Found existing installation: Pillow 4.0.0\n",
            "    Uninstalling Pillow-4.0.0:\n",
            "      Successfully uninstalled Pillow-4.0.0\n",
            "Successfully installed pillow-5.0.0 torchvision-0.2.0\n"
          ],
          "name": "stdout"
        }
      ]
    },
    {
      "metadata": {
        "id": "v5VoHLmSO0Tc",
        "colab_type": "code",
        "colab": {
          "autoexec": {
            "startup": false,
            "wait_interval": 0
          }
        }
      },
      "cell_type": "code",
      "source": [
        "import torch\n",
        "import torch.nn as nn\n",
        "import torchvision.datasets as dsets\n",
        "import torchvision\n",
        "import torchvision.transforms as transforms\n",
        "from torch.autograd import Variable\n",
        "import torch.nn.functional as F\n"
      ],
      "execution_count": 0,
      "outputs": []
    },
    {
      "metadata": {
        "id": "FBIOmrmfrVES",
        "colab_type": "text"
      },
      "cell_type": "markdown",
      "source": [
        "# Download and Acquire Training and Testing Datasets"
      ]
    },
    {
      "metadata": {
        "id": "gEvfuhaXPc_C",
        "colab_type": "code",
        "colab": {
          "autoexec": {
            "startup": false,
            "wait_interval": 0
          },
          "output_extras": [
            {
              "item_id": 2
            }
          ],
          "base_uri": "https://localhost:8080/",
          "height": 51
        },
        "outputId": "ccee4957-26a4-4c68-f876-75523f2e4621",
        "executionInfo": {
          "status": "ok",
          "timestamp": 1522455514348,
          "user_tz": 420,
          "elapsed": 126154,
          "user": {
            "displayName": "Tairi Delgado",
            "photoUrl": "//lh6.googleusercontent.com/-l4lv-T3P6-c/AAAAAAAAAAI/AAAAAAAABIA/4wtQ8ehIzZw/s50-c-k-no/photo.jpg",
            "userId": "115188476170888991569"
          }
        }
      },
      "cell_type": "code",
      "source": [
        "transform = transforms.Compose(\n",
        "    [transforms.ToTensor(),\n",
        "     transforms.Normalize((0.5, 0.5, 0.5), (0.5, 0.5, 0.5))])\n",
        "\n",
        "trainset = torchvision.datasets.CIFAR10(root='./data', train=True,\n",
        "                                        download=True, transform=transform)\n",
        "trainloader = torch.utils.data.DataLoader(trainset, batch_size=4,\n",
        "                                          shuffle=True, num_workers=2)\n",
        "\n",
        "testset = torchvision.datasets.CIFAR10(root='./data', train=False,\n",
        "                                       download=True, transform=transform)\n",
        "testloader = torch.utils.data.DataLoader(testset, batch_size=4,\n",
        "                                         shuffle=False, num_workers=2)\n",
        "\n",
        "classes = ('plane', 'car', 'bird', 'cat',\n",
        "           'deer', 'dog', 'frog', 'horse', 'ship', 'truck')"
      ],
      "execution_count": 8,
      "outputs": [
        {
          "output_type": "stream",
          "text": [
            "Downloading https://www.cs.toronto.edu/~kriz/cifar-10-python.tar.gz to ./data/cifar-10-python.tar.gz\n",
            "Files already downloaded and verified\n"
          ],
          "name": "stdout"
        }
      ]
    },
    {
      "metadata": {
        "id": "VmBCJMFuP-Fe",
        "colab_type": "code",
        "colab": {
          "autoexec": {
            "startup": false,
            "wait_interval": 0
          }
        }
      },
      "cell_type": "code",
      "source": [
        "train_loader = torch.utils.data.DataLoader(dataset=train_dataset, batch_size=batch_size, shuffle=True)\n",
        "test_loader = torch.utils.data.DataLoader(dataset=test_dataset, batch_size=batch_size, shuffle=False)"
      ],
      "execution_count": 0,
      "outputs": []
    },
    {
      "metadata": {
        "id": "SBjdrCM-rfbU",
        "colab_type": "text"
      },
      "cell_type": "markdown",
      "source": [
        "# Define and Initialize Our Two Layer Forward Feed Neural Net Class"
      ]
    },
    {
      "metadata": {
        "id": "dkKfuwCaQR1X",
        "colab_type": "code",
        "colab": {
          "autoexec": {
            "startup": false,
            "wait_interval": 0
          }
        }
      },
      "cell_type": "code",
      "source": [
        "class Net(nn.Module):\n",
        "    def __init__(self):\n",
        "        super(Net, self).__init__()\n",
        "        self.conv1 = nn.Conv2d(3, 6, 5)\n",
        "        self.pool = nn.MaxPool2d(2, 2)\n",
        "        self.conv2 = nn.Conv2d(6, 16, 5)\n",
        "        self.fc1 = nn.Linear(16 * 5 * 5, 120)\n",
        "        self.fc2 = nn.Linear(120, 84)\n",
        "        self.fc3 = nn.Linear(84, 10)\n",
        "\n",
        "    def forward(self, x):\n",
        "        x = self.pool(F.relu(self.conv1(x)))\n",
        "        x = self.pool(F.relu(self.conv2(x)))\n",
        "        x = x.view(-1, 16 * 5 * 5)\n",
        "        x = F.relu(self.fc1(x))\n",
        "        x = F.relu(self.fc2(x))\n",
        "        x = self.fc3(x)\n",
        "        return x"
      ],
      "execution_count": 0,
      "outputs": []
    },
    {
      "metadata": {
        "id": "pzjXJRXTRHSI",
        "colab_type": "code",
        "colab": {
          "autoexec": {
            "startup": false,
            "wait_interval": 0
          }
        }
      },
      "cell_type": "code",
      "source": [
        "net = Net()\n"
      ],
      "execution_count": 0,
      "outputs": []
    },
    {
      "metadata": {
        "id": "DDybzHl3rxbd",
        "colab_type": "text"
      },
      "cell_type": "markdown",
      "source": [
        "# Define our Performance Metric and Training Functions"
      ]
    },
    {
      "metadata": {
        "id": "Ya0IFn8tRML_",
        "colab_type": "code",
        "colab": {
          "autoexec": {
            "startup": false,
            "wait_interval": 0
          }
        }
      },
      "cell_type": "code",
      "source": [
        "import torch.optim as optim\n",
        "\n",
        "criterion = nn.CrossEntropyLoss()\n",
        "optimizer = optim.SGD(net.parameters(), lr=0.001, momentum=0.9)\n"
      ],
      "execution_count": 0,
      "outputs": []
    },
    {
      "metadata": {
        "id": "y_q-Lrv3RZzZ",
        "colab_type": "code",
        "colab": {
          "autoexec": {
            "startup": false,
            "wait_interval": 0
          },
          "output_extras": [
            {
              "item_id": 13
            }
          ],
          "base_uri": "https://localhost:8080/",
          "height": 238
        },
        "outputId": "f868f5ad-7a6b-45e2-a2eb-da4f4a9e56db",
        "executionInfo": {
          "status": "ok",
          "timestamp": 1522459695279,
          "user_tz": 420,
          "elapsed": 116896,
          "user": {
            "displayName": "Tairi Delgado",
            "photoUrl": "//lh6.googleusercontent.com/-l4lv-T3P6-c/AAAAAAAAAAI/AAAAAAAABIA/4wtQ8ehIzZw/s50-c-k-no/photo.jpg",
            "userId": "115188476170888991569"
          }
        }
      },
      "cell_type": "code",
      "source": [
        "for epoch in range(2):  # loop over the dataset multiple times\n",
        "\n",
        "    running_loss = 0.0\n",
        "    for i, data in enumerate(trainloader, 0):\n",
        "        # get the inputs\n",
        "        inputs, labels = data\n",
        "\n",
        "        # wrap them in Variable\n",
        "        inputs, labels = Variable(inputs), Variable(labels)\n",
        "\n",
        "        # zero the parameter gradients\n",
        "        optimizer.zero_grad()\n",
        "\n",
        "        # forward + backward + optimize\n",
        "        outputs = net(inputs)\n",
        "        loss = criterion(outputs, labels)\n",
        "        loss.backward()\n",
        "        optimizer.step()\n",
        "\n",
        "        # print statistics\n",
        "        running_loss += loss.data[0]\n",
        "        if i % 2000 == 1999:    # print every 2000 mini-batches\n",
        "            print('[%d, %5d] loss: %.3f' %\n",
        "                  (epoch + 1, i + 1, running_loss / 2000))\n",
        "            running_loss = 0.0\n",
        "\n",
        "print('Finished Training')\n",
        "      "
      ],
      "execution_count": 13,
      "outputs": [
        {
          "output_type": "stream",
          "text": [
            "[1,  2000] loss: 2.199\n",
            "[1,  4000] loss: 1.858\n",
            "[1,  6000] loss: 1.691\n",
            "[1,  8000] loss: 1.611\n",
            "[1, 10000] loss: 1.556\n",
            "[1, 12000] loss: 1.497\n",
            "[2,  2000] loss: 1.417\n",
            "[2,  4000] loss: 1.395\n",
            "[2,  6000] loss: 1.371\n",
            "[2,  8000] loss: 1.347\n",
            "[2, 10000] loss: 1.298\n",
            "[2, 12000] loss: 1.293\n",
            "Finished Training\n"
          ],
          "name": "stdout"
        }
      ]
    },
    {
      "metadata": {
        "id": "TfJaNfqIsFhM",
        "colab_type": "text"
      },
      "cell_type": "markdown",
      "source": [
        "# Report Our Testing Accuracy"
      ]
    },
    {
      "metadata": {
        "id": "OdWhxwvuStUL",
        "colab_type": "code",
        "colab": {
          "autoexec": {
            "startup": false,
            "wait_interval": 0
          },
          "output_extras": [
            {
              "item_id": 1
            }
          ],
          "base_uri": "https://localhost:8080/",
          "height": 34
        },
        "outputId": "1deae993-0a2c-4ef1-d47e-5e5b5107c1b4",
        "executionInfo": {
          "status": "ok",
          "timestamp": 1522459790340,
          "user_tz": 420,
          "elapsed": 7272,
          "user": {
            "displayName": "Tairi Delgado",
            "photoUrl": "//lh6.googleusercontent.com/-l4lv-T3P6-c/AAAAAAAAAAI/AAAAAAAABIA/4wtQ8ehIzZw/s50-c-k-no/photo.jpg",
            "userId": "115188476170888991569"
          }
        }
      },
      "cell_type": "code",
      "source": [
        "correct = 0\n",
        "total = 0\n",
        "for data in testloader:\n",
        "    images, labels = data\n",
        "    outputs = net(Variable(images))\n",
        "    _, predicted = torch.max(outputs.data, 1)\n",
        "    total += labels.size(0)\n",
        "    correct += (predicted == labels).sum()\n",
        "\n",
        "print('Accuracy of the network on the 10000 test images: %d %%' % (\n",
        "    100 * correct / total))"
      ],
      "execution_count": 14,
      "outputs": [
        {
          "output_type": "stream",
          "text": [
            "Accuracy of the network on the 10000 test images: 57 %\n"
          ],
          "name": "stdout"
        }
      ]
    },
    {
      "metadata": {
        "id": "aWsC8M9DrTDE",
        "colab_type": "code",
        "colab": {
          "autoexec": {
            "startup": false,
            "wait_interval": 0
          },
          "output_extras": [
            {
              "item_id": 1
            }
          ],
          "base_uri": "https://localhost:8080/",
          "height": 187
        },
        "outputId": "72ee34a3-00f9-4ede-e3e8-a45326df952b",
        "executionInfo": {
          "status": "ok",
          "timestamp": 1522459826165,
          "user_tz": 420,
          "elapsed": 7299,
          "user": {
            "displayName": "Tairi Delgado",
            "photoUrl": "//lh6.googleusercontent.com/-l4lv-T3P6-c/AAAAAAAAAAI/AAAAAAAABIA/4wtQ8ehIzZw/s50-c-k-no/photo.jpg",
            "userId": "115188476170888991569"
          }
        }
      },
      "cell_type": "code",
      "source": [
        "class_correct = list(0. for i in range(10))\n",
        "class_total = list(0. for i in range(10))\n",
        "for data in testloader:\n",
        "    images, labels = data\n",
        "    outputs = net(Variable(images))\n",
        "    _, predicted = torch.max(outputs.data, 1)\n",
        "    c = (predicted == labels).squeeze()\n",
        "    for i in range(4):\n",
        "        label = labels[i]\n",
        "        class_correct[label] += c[i]\n",
        "        class_total[label] += 1\n",
        "\n",
        "\n",
        "for i in range(10):\n",
        "    print('Accuracy of %5s : %2d %%' % (\n",
        "        classes[i], 100 * class_correct[i] / class_total[i]))"
      ],
      "execution_count": 15,
      "outputs": [
        {
          "output_type": "stream",
          "text": [
            "Accuracy of plane : 57 %\n",
            "Accuracy of   car : 79 %\n",
            "Accuracy of  bird : 48 %\n",
            "Accuracy of   cat : 33 %\n",
            "Accuracy of  deer : 50 %\n",
            "Accuracy of   dog : 44 %\n",
            "Accuracy of  frog : 65 %\n",
            "Accuracy of horse : 66 %\n",
            "Accuracy of  ship : 62 %\n",
            "Accuracy of truck : 64 %\n"
          ],
          "name": "stdout"
        }
      ]
    },
    {
      "metadata": {
        "id": "DhOChXUcsJpF",
        "colab_type": "text"
      },
      "cell_type": "markdown",
      "source": [
        "# Save Our Neural Network Model To Pickle File"
      ]
    },
    {
      "metadata": {
        "id": "nyv0DxE0TRju",
        "colab_type": "code",
        "colab": {
          "autoexec": {
            "startup": false,
            "wait_interval": 0
          }
        }
      },
      "cell_type": "code",
      "source": [
        "torch.save(net.state_dict(), 'fnn_model.pkl')\n"
      ],
      "execution_count": 0,
      "outputs": []
    }
  ]
}