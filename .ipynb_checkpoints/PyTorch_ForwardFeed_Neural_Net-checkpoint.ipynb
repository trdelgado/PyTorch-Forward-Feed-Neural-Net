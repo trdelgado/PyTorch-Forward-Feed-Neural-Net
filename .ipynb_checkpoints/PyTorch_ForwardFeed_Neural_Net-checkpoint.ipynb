{
  "nbformat": 4,
  "nbformat_minor": 0,
  "metadata": {
    "colab": {
      "name": "PyTorch ForwardFeed Neural Net.ipynb",
      "version": "0.3.2",
      "views": {},
      "default_view": {},
      "provenance": [
        {
          "file_id": "1lelRw46AhuRRwRArhFhfpWJHK4jq4YJS",
          "timestamp": 1522359017569
        }
      ]
    },
    "kernelspec": {
      "name": "python3",
      "display_name": "Python 3"
    }
  },
  "cells": [
    {
      "metadata": {
        "id": "A7msEU5trFzR",
        "colab_type": "text"
      },
      "cell_type": "markdown",
      "source": [
        "# Install PyTorch into Google Colabs"
      ]
    },
    {
      "metadata": {
        "id": "YY72ywmlNJXb",
        "colab_type": "code",
        "colab": {
          "autoexec": {
            "startup": false,
            "wait_interval": 0
          },
          "output_extras": [
            {}
          ],
          "base_uri": "https://localhost:8080/",
          "height": 136
        },
        "outputId": "25120d9d-419d-44b6-eab2-b5840ac66aff",
        "executionInfo": {
          "status": "ok",
          "timestamp": 1522311005235,
          "user_tz": 420,
          "elapsed": 8552,
          "user": {
            "displayName": "Tairi Delgado",
            "photoUrl": "//lh6.googleusercontent.com/-l4lv-T3P6-c/AAAAAAAAAAI/AAAAAAAABIA/4wtQ8ehIzZw/s50-c-k-no/photo.jpg",
            "userId": "115188476170888991569"
          }
        }
      },
      "cell_type": "code",
      "source": [
        "!pip3 install http://download.pytorch.org/whl/cpu/torch-0.3.1-cp36-cp36m-linux_x86_64.whl "
      ],
      "execution_count": 0,
      "outputs": [
        {
          "output_type": "stream",
          "text": [
            "Collecting torch==0.3.1 from http://download.pytorch.org/whl/cpu/torch-0.3.1-cp36-cp36m-linux_x86_64.whl\n",
            "  Downloading http://download.pytorch.org/whl/cpu/torch-0.3.1-cp36-cp36m-linux_x86_64.whl (47.0MB)\n",
            "\u001b[K    100% |████████████████████████████████| 47.0MB 45.2MB/s \n",
            "\u001b[?25hRequirement already satisfied: pyyaml in /usr/local/lib/python3.6/dist-packages (from torch==0.3.1)\n",
            "Requirement already satisfied: numpy in /usr/local/lib/python3.6/dist-packages (from torch==0.3.1)\n",
            "Installing collected packages: torch\n",
            "Successfully installed torch-0.3.1\n"
          ],
          "name": "stdout"
        }
      ]
    },
    {
      "metadata": {
        "id": "nxDA8ynYOaK8",
        "colab_type": "code",
        "colab": {
          "autoexec": {
            "startup": false,
            "wait_interval": 0
          },
          "output_extras": [
            {}
          ],
          "base_uri": "https://localhost:8080/",
          "height": 272
        },
        "outputId": "847c311f-3ef8-4eb6-a796-be0696ddb4ec",
        "executionInfo": {
          "status": "ok",
          "timestamp": 1522311016700,
          "user_tz": 420,
          "elapsed": 10299,
          "user": {
            "displayName": "Tairi Delgado",
            "photoUrl": "//lh6.googleusercontent.com/-l4lv-T3P6-c/AAAAAAAAAAI/AAAAAAAABIA/4wtQ8ehIzZw/s50-c-k-no/photo.jpg",
            "userId": "115188476170888991569"
          }
        }
      },
      "cell_type": "code",
      "source": [
        "!pip3 install torchvision"
      ],
      "execution_count": 0,
      "outputs": [
        {
          "output_type": "stream",
          "text": [
            "Collecting torchvision\n",
            "  Downloading torchvision-0.2.0-py2.py3-none-any.whl (48kB)\n",
            "\u001b[K    100% |████████████████████████████████| 51kB 1.5MB/s \n",
            "\u001b[?25hRequirement already satisfied: numpy in /usr/local/lib/python3.6/dist-packages (from torchvision)\n",
            "Collecting pillow>=4.1.1 (from torchvision)\n",
            "  Downloading Pillow-5.0.0-cp36-cp36m-manylinux1_x86_64.whl (5.9MB)\n",
            "\u001b[K    100% |████████████████████████████████| 5.9MB 208kB/s \n",
            "\u001b[?25hRequirement already satisfied: torch in /usr/local/lib/python3.6/dist-packages (from torchvision)\n",
            "Requirement already satisfied: six in /usr/local/lib/python3.6/dist-packages (from torchvision)\n",
            "Requirement already satisfied: pyyaml in /usr/local/lib/python3.6/dist-packages (from torch->torchvision)\n",
            "Installing collected packages: pillow, torchvision\n",
            "  Found existing installation: Pillow 4.0.0\n",
            "    Uninstalling Pillow-4.0.0:\n",
            "      Successfully uninstalled Pillow-4.0.0\n",
            "Successfully installed pillow-5.0.0 torchvision-0.2.0\n"
          ],
          "name": "stdout"
        }
      ]
    },
    {
      "metadata": {
        "id": "v5VoHLmSO0Tc",
        "colab_type": "code",
        "colab": {
          "autoexec": {
            "startup": false,
            "wait_interval": 0
          }
        }
      },
      "cell_type": "code",
      "source": [
        "import torch\n",
        "import torch.nn as nn\n",
        "import torchvision.datasets as dsets\n",
        "import torchvision.transforms as transforms\n",
        "from torch.autograd import Variable"
      ],
      "execution_count": 0,
      "outputs": []
    },
    {
      "metadata": {
        "id": "wDqftZ_MrNux",
        "colab_type": "text"
      },
      "cell_type": "markdown",
      "source": [
        "# Initialize Neural Net Parameters"
      ]
    },
    {
      "metadata": {
        "id": "MLGJ9VyXPO6h",
        "colab_type": "code",
        "colab": {
          "autoexec": {
            "startup": false,
            "wait_interval": 0
          }
        }
      },
      "cell_type": "code",
      "source": [
        "input_size = 784\n",
        "hidden_size = 500\n",
        "num_classes = 10\n",
        "num_epochs = 5\n",
        "batch_size = 100\n",
        "learning_rate = 1e-3"
      ],
      "execution_count": 0,
      "outputs": []
    },
    {
      "metadata": {
        "id": "FBIOmrmfrVES",
        "colab_type": "text"
      },
      "cell_type": "markdown",
      "source": [
        "# Download and Acquire Training and Testing Datasets"
      ]
    },
    {
      "metadata": {
        "id": "gEvfuhaXPc_C",
        "colab_type": "code",
        "colab": {
          "autoexec": {
            "startup": false,
            "wait_interval": 0
          },
          "output_extras": [
            {}
          ],
          "base_uri": "https://localhost:8080/",
          "height": 119
        },
        "outputId": "49085132-b3a4-4902-b83e-d290fb4efed0",
        "executionInfo": {
          "status": "ok",
          "timestamp": 1522284872727,
          "user_tz": 420,
          "elapsed": 30639,
          "user": {
            "displayName": "Tairi Delgado",
            "photoUrl": "//lh6.googleusercontent.com/-l4lv-T3P6-c/AAAAAAAAAAI/AAAAAAAABIA/4wtQ8ehIzZw/s50-c-k-no/photo.jpg",
            "userId": "115188476170888991569"
          }
        }
      },
      "cell_type": "code",
      "source": [
        "train_dataset = dsets.MNIST(root='./data', train=True, transform=transforms.ToTensor(), download=True)\n",
        "test_dataset = dsets.MNIST(root='./data', train=False, transform=transforms.ToTensor())"
      ],
      "execution_count": 0,
      "outputs": [
        {
          "output_type": "stream",
          "text": [
            "Downloading http://yann.lecun.com/exdb/mnist/train-images-idx3-ubyte.gz\n",
            "Downloading http://yann.lecun.com/exdb/mnist/train-labels-idx1-ubyte.gz\n",
            "Downloading http://yann.lecun.com/exdb/mnist/t10k-images-idx3-ubyte.gz\n",
            "Downloading http://yann.lecun.com/exdb/mnist/t10k-labels-idx1-ubyte.gz\n",
            "Processing...\n",
            "Done!\n"
          ],
          "name": "stdout"
        }
      ]
    },
    {
      "metadata": {
        "id": "VmBCJMFuP-Fe",
        "colab_type": "code",
        "colab": {
          "autoexec": {
            "startup": false,
            "wait_interval": 0
          }
        }
      },
      "cell_type": "code",
      "source": [
        "train_loader = torch.utils.data.DataLoader(dataset=train_dataset, batch_size=batch_size, shuffle=True)\n",
        "test_loader = torch.utils.data.DataLoader(dataset=test_dataset, batch_size=batch_size, shuffle=False)"
      ],
      "execution_count": 0,
      "outputs": []
    },
    {
      "metadata": {
        "id": "SBjdrCM-rfbU",
        "colab_type": "text"
      },
      "cell_type": "markdown",
      "source": [
        "# Define and Initialize Our Two Layer Forward Feed Neural Net Class"
      ]
    },
    {
      "metadata": {
        "id": "dkKfuwCaQR1X",
        "colab_type": "code",
        "colab": {
          "autoexec": {
            "startup": false,
            "wait_interval": 0
          }
        }
      },
      "cell_type": "code",
      "source": [
        "class Net(nn.Module):\n",
        "  def __init__(self, input_size, hidden_size, num_classes):\n",
        "    super(Net, self).__init__()\n",
        "    self.fc1 = nn.Linear(input_size, hidden_size)\n",
        "    self.relu = nn.ReLU()\n",
        "    self.fc2 = nn.Linear(hidden_size, num_classes)\n",
        "    \n",
        "  def forward(self, x):\n",
        "    out = self.fc1(x)\n",
        "    out = self.relu(out)\n",
        "    out = self.fc2(out)\n",
        "    return out"
      ],
      "execution_count": 0,
      "outputs": []
    },
    {
      "metadata": {
        "id": "pzjXJRXTRHSI",
        "colab_type": "code",
        "colab": {
          "autoexec": {
            "startup": false,
            "wait_interval": 0
          }
        }
      },
      "cell_type": "code",
      "source": [
        "net = Net(input_size, hidden_size, num_classes)"
      ],
      "execution_count": 0,
      "outputs": []
    },
    {
      "metadata": {
        "id": "DDybzHl3rxbd",
        "colab_type": "text"
      },
      "cell_type": "markdown",
      "source": [
        "# Define our Performance Metric and Training Functions"
      ]
    },
    {
      "metadata": {
        "id": "Ya0IFn8tRML_",
        "colab_type": "code",
        "colab": {
          "autoexec": {
            "startup": false,
            "wait_interval": 0
          }
        }
      },
      "cell_type": "code",
      "source": [
        "criterion = nn.CrossEntropyLoss()\n",
        "optimizer = torch.optim.Adam(net.parameters(), lr=learning_rate)"
      ],
      "execution_count": 0,
      "outputs": []
    },
    {
      "metadata": {
        "id": "y_q-Lrv3RZzZ",
        "colab_type": "code",
        "colab": {
          "autoexec": {
            "startup": false,
            "wait_interval": 0
          },
          "output_extras": [
            {}
          ],
          "base_uri": "https://localhost:8080/",
          "height": 527
        },
        "outputId": "01813ac1-9148-4b9f-c079-8ea0cbe6f816",
        "executionInfo": {
          "status": "ok",
          "timestamp": 1522285575816,
          "user_tz": 420,
          "elapsed": 50862,
          "user": {
            "displayName": "Tairi Delgado",
            "photoUrl": "//lh6.googleusercontent.com/-l4lv-T3P6-c/AAAAAAAAAAI/AAAAAAAABIA/4wtQ8ehIzZw/s50-c-k-no/photo.jpg",
            "userId": "115188476170888991569"
          }
        }
      },
      "cell_type": "code",
      "source": [
        "for epoch in range(num_epochs):\n",
        "  for i, (images, labels) in enumerate(train_loader):\n",
        "    images = Variable(images.view(-1, 28*28))\n",
        "    labels = Variable(labels)\n",
        "    \n",
        "    optimizer.zero_grad()\n",
        "    outputs = net(images)\n",
        "    loss = criterion(outputs, labels)\n",
        "    loss.backward()\n",
        "    optimizer.step()\n",
        "    \n",
        "    if (i+1) % 100 == 0:\n",
        "      print('Epoch [%d/%d], step [%d/%d], Loss: %.4f' %(epoch+1, num_epochs, i+1, len(train_dataset)//batch_size, loss.data[0]))\n",
        "      "
      ],
      "execution_count": 0,
      "outputs": [
        {
          "output_type": "stream",
          "text": [
            "Epoch [1/5], step [100/600], Loss: 0.3308\n",
            "Epoch [1/5], step [200/600], Loss: 0.1975\n",
            "Epoch [1/5], step [300/600], Loss: 0.3506\n",
            "Epoch [1/5], step [400/600], Loss: 0.2702\n",
            "Epoch [1/5], step [500/600], Loss: 0.1611\n",
            "Epoch [1/5], step [600/600], Loss: 0.0686\n",
            "Epoch [2/5], step [100/600], Loss: 0.1600\n",
            "Epoch [2/5], step [200/600], Loss: 0.0693\n",
            "Epoch [2/5], step [300/600], Loss: 0.1055\n",
            "Epoch [2/5], step [400/600], Loss: 0.0466\n",
            "Epoch [2/5], step [500/600], Loss: 0.2191\n",
            "Epoch [2/5], step [600/600], Loss: 0.0798\n",
            "Epoch [3/5], step [100/600], Loss: 0.0314\n",
            "Epoch [3/5], step [200/600], Loss: 0.0833\n",
            "Epoch [3/5], step [300/600], Loss: 0.0826\n",
            "Epoch [3/5], step [400/600], Loss: 0.0341\n",
            "Epoch [3/5], step [500/600], Loss: 0.1635\n",
            "Epoch [3/5], step [600/600], Loss: 0.0234\n",
            "Epoch [4/5], step [100/600], Loss: 0.0471\n",
            "Epoch [4/5], step [200/600], Loss: 0.0530\n",
            "Epoch [4/5], step [300/600], Loss: 0.0856\n",
            "Epoch [4/5], step [400/600], Loss: 0.0762\n",
            "Epoch [4/5], step [500/600], Loss: 0.0724\n",
            "Epoch [4/5], step [600/600], Loss: 0.0724\n",
            "Epoch [5/5], step [100/600], Loss: 0.0452\n",
            "Epoch [5/5], step [200/600], Loss: 0.0499\n",
            "Epoch [5/5], step [300/600], Loss: 0.0452\n",
            "Epoch [5/5], step [400/600], Loss: 0.0553\n",
            "Epoch [5/5], step [500/600], Loss: 0.1320\n",
            "Epoch [5/5], step [600/600], Loss: 0.0675\n"
          ],
          "name": "stdout"
        }
      ]
    },
    {
      "metadata": {
        "id": "TfJaNfqIsFhM",
        "colab_type": "text"
      },
      "cell_type": "markdown",
      "source": [
        "# Report Our Testing Accuracy"
      ]
    },
    {
      "metadata": {
        "id": "OdWhxwvuStUL",
        "colab_type": "code",
        "colab": {
          "autoexec": {
            "startup": false,
            "wait_interval": 0
          },
          "output_extras": [
            {}
          ],
          "base_uri": "https://localhost:8080/",
          "height": 34
        },
        "outputId": "94a5b509-215c-403c-c115-25a8dfe1d829",
        "executionInfo": {
          "status": "ok",
          "timestamp": 1522285730032,
          "user_tz": 420,
          "elapsed": 1360,
          "user": {
            "displayName": "Tairi Delgado",
            "photoUrl": "//lh6.googleusercontent.com/-l4lv-T3P6-c/AAAAAAAAAAI/AAAAAAAABIA/4wtQ8ehIzZw/s50-c-k-no/photo.jpg",
            "userId": "115188476170888991569"
          }
        }
      },
      "cell_type": "code",
      "source": [
        "correct = 0\n",
        "total = 0\n",
        "for images, labels in test_loader:\n",
        "  images = Variable(images.view(-1, 28*28))\n",
        "  \n",
        "  outputs = net(images)\n",
        "  _, predicted = torch.max(outputs.data, 1)\n",
        "  total += labels.size(0)\n",
        "  correct += (predicted == labels).sum()\n",
        "  \n",
        "print('Accuracy of the network on the 10K test images: %d %%' % (100 * correct / total))"
      ],
      "execution_count": 0,
      "outputs": [
        {
          "output_type": "stream",
          "text": [
            "Accuracy of the network on the 10K test images: 97 %\n"
          ],
          "name": "stdout"
        }
      ]
    },
    {
      "metadata": {
        "id": "DhOChXUcsJpF",
        "colab_type": "text"
      },
      "cell_type": "markdown",
      "source": [
        "# Save Our Neural Network Model To Pickle File"
      ]
    },
    {
      "metadata": {
        "id": "nyv0DxE0TRju",
        "colab_type": "code",
        "colab": {
          "autoexec": {
            "startup": false,
            "wait_interval": 0
          }
        }
      },
      "cell_type": "code",
      "source": [
        "torch.save(net.state_dict(), 'fnn_model.pkl')"
      ],
      "execution_count": 0,
      "outputs": []
    },
    {
      "metadata": {
        "id": "iOMP4N4DUDLm",
        "colab_type": "text"
      },
      "cell_type": "markdown",
      "source": [
        "[Link](https://colab.research.google.com/notebook#fileId=1jxUPzMsAkBboHMQtGyfv5M5c7hU8Ss2c)"
      ]
    }
  ]
}